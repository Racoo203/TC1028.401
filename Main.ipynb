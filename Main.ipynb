{
 "cells": [
  {
   "cell_type": "code",
   "execution_count": 2,
   "id": "d5ae3cfb",
   "metadata": {
    "scrolled": true
   },
   "outputs": [],
   "source": [
    "import random\n",
    "\n",
    "def generarPreguntaFiguras():\n",
    "    # Ejercicios de figuras retóricas\n",
    "    figuras = open(\"figuras_Ejercicios.csv\",\"r\",encoding=\"utf-8\")\n",
    "    preguntas = []\n",
    "\n",
    "    for linea in figuras:\n",
    "        temp = linea.split(\"/\")\n",
    "        preguntas.append(temp)\n",
    "\n",
    "    figuras.close()\n",
    "\n",
    "    # Selección de ejercicio\n",
    "    num = random.randint(0,len(preguntas)-1)\n",
    "    ejercicio = preguntas[num]\n",
    "\n",
    "\n",
    "    # Respuestas de los ejercicios\n",
    "    figuras = open(\"figuras_Respuestas.csv\", encoding=\"utf-8\")\n",
    "    respuestas = []\n",
    "\n",
    "    for linea in figuras:\n",
    "        txt = linea.replace(\"\\n\",\"\")\n",
    "        temp = txt.split(\"/\")\n",
    "        respuestas.append(temp)\n",
    "\n",
    "    figuras.close()\n",
    "\n",
    "    # GUI\n",
    "    print(\"Lee el siguiente texto:\\n\")\n",
    "    for i in range(len(ejercicio)):\n",
    "        print(ejercicio[i])\n",
    "\n",
    "    correcto = False\n",
    "    \n",
    "    \n",
    "    respuesta = input(\"Indica una figura retórica presente en este texto.\\n\").lower()\n",
    "\n",
    "    for i in range(len(respuestas[num])):\n",
    "        if respuesta == respuestas[num][i].lower():\n",
    "            correcto = True\n",
    "\n",
    "    if correcto:\n",
    "        print(\"CORRECTO! Las posibles respuestas correctas son:\")\n",
    "    else:\n",
    "        print(\"Incorrecto, algunas respuestas correctas son:\")\n",
    "\n",
    "    for i in range(len(respuestas[num])):\n",
    "        print(respuestas[num][i])"
   ]
  },
  {
   "cell_type": "code",
   "execution_count": 3,
   "id": "55a2dc69",
   "metadata": {},
   "outputs": [
    {
     "name": "stdout",
     "output_type": "stream",
     "text": [
      "Lee el siguiente texto:\n",
      "\n",
      "No perdono a la muerte enamorada,\n",
      "no perdono a la vida desatenta,\n",
      "no perdono a la tierra ni a la nada.\n",
      "\n",
      "Indica una figura retórica presente en este texto.\n",
      "Anáfora\n",
      "CORRECTO! Las posibles respuestas correctas son:\n",
      "Anáfora\n",
      "Paralelismo\n",
      "Personificación\n"
     ]
    }
   ],
   "source": [
    "generarPreguntaFiguras()"
   ]
  },
  {
   "cell_type": "code",
   "execution_count": null,
   "id": "86dff26f",
   "metadata": {},
   "outputs": [],
   "source": []
  }
 ],
 "metadata": {
  "kernelspec": {
   "display_name": "Python 3 (ipykernel)",
   "language": "python",
   "name": "python3"
  },
  "language_info": {
   "codemirror_mode": {
    "name": "ipython",
    "version": 3
   },
   "file_extension": ".py",
   "mimetype": "text/x-python",
   "name": "python",
   "nbconvert_exporter": "python",
   "pygments_lexer": "ipython3",
   "version": "3.10.4"
  }
 },
 "nbformat": 4,
 "nbformat_minor": 5
}
