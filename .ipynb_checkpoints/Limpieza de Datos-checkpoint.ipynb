{
 "cells": [
  {
   "cell_type": "markdown",
   "id": "78a18422",
   "metadata": {},
   "source": [
    "https://blogdecastellanodeinma.blogspot.com/2015/12/ejercicios-de-repaso-figuras-literarias.html\n",
    "f.close()\n",
    "\n",
    "test = open(\"test.csv\",\"w\")\n",
    "txt = \"\"\n",
    "for i in range(len(lineas)):\n",
    "    for j in range(len(lineas[i])-1):\n",
    "        txt = txt + lineas[i][j] + \"/\"\n",
    "    txt = txt + lineas[i][len(lineas[i])-1] + \"\\n\"\n",
    "\n",
    "test.write(txt)\n",
    "test.close()"
   ]
  },
  {
   "cell_type": "code",
   "execution_count": 26,
   "id": "87dafc27",
   "metadata": {},
   "outputs": [],
   "source": [
    "f = open(\"figuras_Ejercicios.csv\",\"r\")\n",
    "txt = f.read().split(\"\\n\")\n",
    "\n",
    "lineas = []\n",
    "temp = []\n",
    "for i in range(len(txt)):\n",
    "    if txt[i] == \"\":\n",
    "        lineas.append(temp)\n",
    "        temp = []\n",
    "    else:\n",
    "        temp.append(txt[i])\n",
    "f.close()\n",
    "\n",
    "test = open(\"test.csv\",\"w\")\n",
    "txt = \"\"\n",
    "for i in range(len(lineas)):\n",
    "    for j in range(len(lineas[i])-1):\n",
    "        txt = txt + lineas[i][j] + \"/\"\n",
    "    txt = txt + lineas[i][len(lineas[i])-1] + \"\\n\"\n",
    "\n",
    "test.write(txt)\n",
    "test.close()"
   ]
  },
  {
   "cell_type": "code",
   "execution_count": 3,
   "id": "70f62c36",
   "metadata": {},
   "outputs": [
    {
     "name": "stdout",
     "output_type": "stream",
     "text": [
      "ANÁFORA: “temprano”/PERSONIFICACIÓN: “levantó la muerte el vuelo”, “madrugó la madrugada”./PARALELISMO en los dos primeros versos./ /EPÍTETO: “ronca tempestad”./ONOMATOPEYA: repetición del sonido /r/ (imita el sonido de la tempestad)\n",
      "ONOMATOPEYA: repetición del sonido /r/ (imita el sonido del torrente)\n",
      "ONOMATOPETA: repetición del sonido /que/ (imita la tartamudez)\n",
      "OXÍMORON: “ser y no saber nada” y “de haber sido y futuro”.\n",
      "ANÁFORA: “ni” (versos 1 y 3)/ENCABALGAMIENTO: del vero 1 al 2, y del 3 al 4./COMPARACIÓN: “el cutis tan fino”.\n",
      "PERSONIFICACIÓN: “alma de las rosas”/ENCABALGAMIENTO: del verso 1 al 2./ALITERACIÓN: “a las aladas almas de las rosas” (se repiten los sonidos /a/ y /l/)./METÁFORA: “almendro de nata”./ /ANÁFORA: “mientras” (versos 1, 3, 5 y 6)./PARALELISMO: versos 1, 3, 5 y 6/ENCABALGAMIENTO: del vero 1 al 2, del verso 2 al 4, y del verso 6 al 7./PERSONIFICACIÓN: “el aire en su regazo” (el regazo solo lo tienen las personas)./HIPÉRBATON: todo el poema (todos los versos tienen el orden sintáctico modificado)./METÁFORA: “las ondas de la luz al beso palpitan encendidas”, “el sol desgarra las nubes”./ /POLISÍNDETON: verso 1./ENCABALGAMIENTO: del verso 1 al 2./PERSONIFICACIÓN: “el prado y valle y gruta y río y fuente responden”\n",
      "ANÁFORA: “no perdono a la”/PARALELISMO: los tres versos./PERSONIFICACIÓN: “la muerte enamorada”./ /HIPÉRBATON: todos los versos tienen el orden sintáctico desordenado./PERSONIFICACIÓN: “tus ojos me matan”, “roban pensamientos”.\n",
      "ALITERACIÓN de los sonidos /l/ y /v/.\n",
      "QUIASMO entre los dos versos.\n",
      "EPÍTETO: “oscuras golondrinas”/ENCABALGAMIENTO: del verso 1 al 2./HIPÉRBATON: los dos versos forman una oración pero está desordenada.\n",
      "OXÍMORON (del verso 1 con el 2)\n",
      "HIPÉRBATON: los dos versos forman una oración pero está desordenada.\n",
      "ENCABALGAMIENTO: del verso 1 al 2./ANADIPLOSIS: el verso 2 acaba con “tristeza” y con esa palabra empieza el verso 3./PARADOJA: “tristeza que es amor”.\n",
      "ANÁFORA: “esta casa de Dios”./PARALELISMO: los dos versos./APÓSTROFE: “hermanos”\n",
      "POLISÍNDENTON: “y es blanca y es graciosa y es leve”./SÍMIL: “como un rayo de luna”.\n",
      "ANADIPLOSIS: el verso 1 acaba con “dile” y con esa palabra empieza el verso 2./ /ALITERACIÓN de lós sonidos /ur/ y b-v/\n",
      "EPANADIPLOSIS: el verso empieza y acaba con la misma palabra: “mono”.\n",
      "PARALELISMO: los dos versos.\n",
      "\n"
     ]
    }
   ],
   "source": [
    "f = open(\"figuras_Respuestas.csv\",\"r\", encoding=\"utf-8\")\n",
    "txt = f.read().split(\"\\n\")\n",
    "\n",
    "lineas = []\n",
    "temp = []\n",
    "for i in range(len(txt)):\n",
    "    if txt[i] == \"\":\n",
    "        lineas.append(temp)\n",
    "        temp = []\n",
    "    else:\n",
    "        temp.append(txt[i])\n",
    "f.close()\n",
    "\n",
    "f = open(\"test.csv\",\"w\", encoding=\"utf-8\")\n",
    "txt = \"\"\n",
    "for i in range(len(lineas)):\n",
    "    for j in range(len(lineas[i])-1):\n",
    "        txt = txt + lineas[i][j] + \"/\"\n",
    "    txt = txt + lineas[i][len(lineas[i])-1] + \"\\n\"\n",
    "print(txt)\n",
    "f.write(txt)\n",
    "f.close()"
   ]
  }
 ],
 "metadata": {
  "kernelspec": {
   "display_name": "Python 3 (ipykernel)",
   "language": "python",
   "name": "python3"
  },
  "language_info": {
   "codemirror_mode": {
    "name": "ipython",
    "version": 3
   },
   "file_extension": ".py",
   "mimetype": "text/x-python",
   "name": "python",
   "nbconvert_exporter": "python",
   "pygments_lexer": "ipython3",
   "version": "3.10.4"
  }
 },
 "nbformat": 4,
 "nbformat_minor": 5
}
